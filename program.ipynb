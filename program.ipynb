{
 "cells": [
  {
   "cell_type": "markdown",
   "metadata": {},
   "source": [
    "## Score me"
   ]
  },
  {
   "cell_type": "code",
   "execution_count": 1,
   "metadata": {},
   "outputs": [],
   "source": [
    "import fitz  # PyMuPDF\n",
    "import pandas as pd\n",
    "import re\n",
    "import os"
   ]
  },
  {
   "cell_type": "code",
   "execution_count": 8,
   "metadata": {},
   "outputs": [
    {
     "name": "stdout",
     "output_type": "stream",
     "text": [
      "Data extraction and saving completed.\n"
     ]
    }
   ],
   "source": [
    "import fitz\n",
    "import re\n",
    "import pandas as pd\n",
    "\n",
    "def extract_transactions(pdf_path):\n",
    "    doc = fitz.open(pdf_path)\n",
    "    all_transactions = []\n",
    "    current_page = 1\n",
    "\n",
    "    for page in doc:\n",
    "        text = page.get_text()\n",
    "        lines = text.split('\\n')\n",
    "        page_transactions = []\n",
    "        \n",
    "        for line in lines:\n",
    "            # Match date pattern\n",
    "            date_match = re.search(r'(\\d{2}-[A-Za-z]{3}-\\d{4})', line)\n",
    "            if date_match:\n",
    "                date = date_match.group(1)\n",
    "                description = line[date_match.end():].strip()\n",
    "                \n",
    "                # Extract amounts\n",
    "                amounts = re.findall(r'(\\d{1,3}(?:,\\d{3})*(?:\\.\\d{2})?)', description)\n",
    "                debit, credit, balance = \"\", \"\", \"\"\n",
    "                \n",
    "                if amounts:\n",
    "                    if 'Dr' in description:\n",
    "                        if len(amounts) >= 3:\n",
    "                            debit, credit, balance = amounts[-3], amounts[-2], amounts[-1] + 'Dr'\n",
    "                        elif len(amounts) == 2:\n",
    "                            debit, balance = amounts[0], amounts[1] + 'Dr'\n",
    "                        elif len(amounts) == 1:\n",
    "                            balance = amounts[0] + 'Dr'\n",
    "                    else:\n",
    "                        if len(amounts) >= 3:\n",
    "                            debit, credit, balance = amounts[-3], amounts[-2], amounts[-1] + 'Dr'\n",
    "                        elif len(amounts) == 2:\n",
    "                            credit, balance = amounts[0], amounts[1] + 'Dr'\n",
    "                        elif len(amounts) == 1:\n",
    "                            balance = amounts[0] + 'Dr'\n",
    "                \n",
    "                # Clean up description\n",
    "                description = re.sub(r'(\\d{1,3}(?:,\\d{3})*(?:\\.\\d{2})?)', '', description).strip()\n",
    "                description = description.replace('Dr', '').strip()\n",
    "                \n",
    "                page_transactions.append({\n",
    "                    'Page': current_page,\n",
    "                    'Date': date,\n",
    "                    'Description': description,\n",
    "                    'Debit': debit,\n",
    "                    'Credit': credit,\n",
    "                    'Balance': balance\n",
    "                })\n",
    "        \n",
    "        all_transactions.extend(page_transactions)\n",
    "        current_page += 1\n",
    "\n",
    "    doc.close()\n",
    "    return all_transactions\n",
    "\n",
    "# The save_to_excel function remains the same\n",
    "\n",
    "# Path to your PDF file\n",
    "pdf_path = \"test3.pdf\"\n",
    "output_path = \"transactions.xlsx\"\n",
    "\n",
    "# Extract transaction data\n",
    "transactions = extract_transactions(pdf_path)\n",
    "\n",
    "# Save to Excel\n",
    "save_to_excel(transactions, output_path)\n",
    "\n",
    "print(\"Data extraction and saving completed.\")\n"
   ]
  }
 ],
 "metadata": {
  "kernelspec": {
   "display_name": "Python 3",
   "language": "python",
   "name": "python3"
  },
  "language_info": {
   "codemirror_mode": {
    "name": "ipython",
    "version": 3
   },
   "file_extension": ".py",
   "mimetype": "text/x-python",
   "name": "python",
   "nbconvert_exporter": "python",
   "pygments_lexer": "ipython3",
   "version": "3.12.9"
  }
 },
 "nbformat": 4,
 "nbformat_minor": 2
}
